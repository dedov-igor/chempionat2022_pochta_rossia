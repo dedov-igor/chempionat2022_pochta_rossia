{
 "cells": [
  {
   "cell_type": "markdown",
   "id": "fe213d70-2167-4c18-979a-cef8d9789340",
   "metadata": {},
   "source": [
    "# Предподготовка данных тренировочного датасета"
   ]
  },
  {
   "cell_type": "code",
   "execution_count": 1,
   "id": "c1a03cca-4c30-48fb-b118-396156716962",
   "metadata": {},
   "outputs": [],
   "source": [
    "import pandas as pd\n",
    "import numpy as np\n",
    "from sklearn.tree import DecisionTreeClassifier \n",
    "from sklearn.model_selection import train_test_split\n",
    "from sklearn.metrics import roc_auc_score, recall_score\n",
    "import joblib"
   ]
  },
  {
   "cell_type": "code",
   "execution_count": 2,
   "id": "60f2f2e1-633c-41a8-ab23-887213511946",
   "metadata": {},
   "outputs": [],
   "source": [
    "RANDOM_STATE = 123"
   ]
  },
  {
   "cell_type": "code",
   "execution_count": 3,
   "id": "b1dd48a6-ded3-43b2-b614-70a7aee6f49c",
   "metadata": {},
   "outputs": [],
   "source": [
    "np.random.seed(RANDOM_STATE)"
   ]
  },
  {
   "cell_type": "code",
   "execution_count": 4,
   "id": "b4e9f8b0-78bd-433e-b084-cafc6a784a53",
   "metadata": {},
   "outputs": [],
   "source": [
    "df = pd.read_csv('train_dataset_train.csv', low_memory=False)"
   ]
  },
  {
   "cell_type": "code",
   "execution_count": 5,
   "id": "36a31038-d933-4b04-9222-50cd00564e69",
   "metadata": {},
   "outputs": [
    {
     "data": {
      "text/html": [
       "<div>\n",
       "<style scoped>\n",
       "    .dataframe tbody tr th:only-of-type {\n",
       "        vertical-align: middle;\n",
       "    }\n",
       "\n",
       "    .dataframe tbody tr th {\n",
       "        vertical-align: top;\n",
       "    }\n",
       "\n",
       "    .dataframe thead th {\n",
       "        text-align: right;\n",
       "    }\n",
       "</style>\n",
       "<table border=\"1\" class=\"dataframe\">\n",
       "  <thead>\n",
       "    <tr style=\"text-align: right;\">\n",
       "      <th></th>\n",
       "      <th>id</th>\n",
       "      <th>oper_type + oper_attr</th>\n",
       "      <th>index_oper</th>\n",
       "      <th>type</th>\n",
       "      <th>priority</th>\n",
       "      <th>is_privatecategory</th>\n",
       "      <th>class</th>\n",
       "      <th>is_in_yandex</th>\n",
       "      <th>is_return</th>\n",
       "      <th>weight</th>\n",
       "      <th>...</th>\n",
       "      <th>dist_qty_oper_login_1</th>\n",
       "      <th>total_qty_oper_login_1</th>\n",
       "      <th>total_qty_oper_login_0</th>\n",
       "      <th>total_qty_over_index_and_type</th>\n",
       "      <th>total_qty_over_index</th>\n",
       "      <th>is_wrong_sndr_name</th>\n",
       "      <th>is_wrong_rcpn_name</th>\n",
       "      <th>is_wrong_phone_number</th>\n",
       "      <th>is_wrong_address</th>\n",
       "      <th>label</th>\n",
       "    </tr>\n",
       "  </thead>\n",
       "  <tbody>\n",
       "    <tr>\n",
       "      <th>0</th>\n",
       "      <td>6818780</td>\n",
       "      <td>1043_-1</td>\n",
       "      <td>628629</td>\n",
       "      <td>Участок</td>\n",
       "      <td>7503.0</td>\n",
       "      <td>N</td>\n",
       "      <td>0.0</td>\n",
       "      <td>Y</td>\n",
       "      <td>N</td>\n",
       "      <td>87.0</td>\n",
       "      <td>...</td>\n",
       "      <td>42.0</td>\n",
       "      <td>720176.0</td>\n",
       "      <td>58950.0</td>\n",
       "      <td>779126.0</td>\n",
       "      <td>8290896.0</td>\n",
       "      <td>0</td>\n",
       "      <td>0</td>\n",
       "      <td>0</td>\n",
       "      <td>0</td>\n",
       "      <td>0</td>\n",
       "    </tr>\n",
       "    <tr>\n",
       "      <th>1</th>\n",
       "      <td>9907176</td>\n",
       "      <td>1023_-1</td>\n",
       "      <td>102976</td>\n",
       "      <td>ММПО</td>\n",
       "      <td>7503.0</td>\n",
       "      <td>N</td>\n",
       "      <td>0.0</td>\n",
       "      <td>N</td>\n",
       "      <td>N</td>\n",
       "      <td>107.0</td>\n",
       "      <td>...</td>\n",
       "      <td>914.0</td>\n",
       "      <td>48856658.0</td>\n",
       "      <td>83318932.0</td>\n",
       "      <td>132175590.0</td>\n",
       "      <td>136819803.0</td>\n",
       "      <td>0</td>\n",
       "      <td>0</td>\n",
       "      <td>0</td>\n",
       "      <td>0</td>\n",
       "      <td>0</td>\n",
       "    </tr>\n",
       "    <tr>\n",
       "      <th>2</th>\n",
       "      <td>3304275</td>\n",
       "      <td>1018_-1</td>\n",
       "      <td>620962</td>\n",
       "      <td>Цех</td>\n",
       "      <td>7503.0</td>\n",
       "      <td>N</td>\n",
       "      <td>0.0</td>\n",
       "      <td>Y</td>\n",
       "      <td>N</td>\n",
       "      <td>50.0</td>\n",
       "      <td>...</td>\n",
       "      <td>62.0</td>\n",
       "      <td>3246292.0</td>\n",
       "      <td>3233068.0</td>\n",
       "      <td>6479360.0</td>\n",
       "      <td>52708071.0</td>\n",
       "      <td>0</td>\n",
       "      <td>1</td>\n",
       "      <td>0</td>\n",
       "      <td>0</td>\n",
       "      <td>0</td>\n",
       "    </tr>\n",
       "    <tr>\n",
       "      <th>3</th>\n",
       "      <td>9020937</td>\n",
       "      <td>1019_-1</td>\n",
       "      <td>344964</td>\n",
       "      <td>Цех</td>\n",
       "      <td>7503.0</td>\n",
       "      <td>N</td>\n",
       "      <td>0.0</td>\n",
       "      <td>Y</td>\n",
       "      <td>N</td>\n",
       "      <td>416.0</td>\n",
       "      <td>...</td>\n",
       "      <td>55.0</td>\n",
       "      <td>2060928.0</td>\n",
       "      <td>653280.0</td>\n",
       "      <td>2714208.0</td>\n",
       "      <td>19562334.0</td>\n",
       "      <td>0</td>\n",
       "      <td>0</td>\n",
       "      <td>0</td>\n",
       "      <td>0</td>\n",
       "      <td>0</td>\n",
       "    </tr>\n",
       "    <tr>\n",
       "      <th>4</th>\n",
       "      <td>3082311</td>\n",
       "      <td>1020_-1</td>\n",
       "      <td>629819</td>\n",
       "      <td>Участок</td>\n",
       "      <td>7503.0</td>\n",
       "      <td>N</td>\n",
       "      <td>0.0</td>\n",
       "      <td>Y</td>\n",
       "      <td>N</td>\n",
       "      <td>795.0</td>\n",
       "      <td>...</td>\n",
       "      <td>16.0</td>\n",
       "      <td>316919.0</td>\n",
       "      <td>27911.0</td>\n",
       "      <td>344830.0</td>\n",
       "      <td>4719186.0</td>\n",
       "      <td>0</td>\n",
       "      <td>0</td>\n",
       "      <td>0</td>\n",
       "      <td>0</td>\n",
       "      <td>0</td>\n",
       "    </tr>\n",
       "  </tbody>\n",
       "</table>\n",
       "<p>5 rows × 29 columns</p>\n",
       "</div>"
      ],
      "text/plain": [
       "        id oper_type + oper_attr index_oper     type  priority  \\\n",
       "0  6818780               1043_-1     628629  Участок    7503.0   \n",
       "1  9907176               1023_-1     102976     ММПО    7503.0   \n",
       "2  3304275               1018_-1     620962      Цех    7503.0   \n",
       "3  9020937               1019_-1     344964      Цех    7503.0   \n",
       "4  3082311               1020_-1     629819  Участок    7503.0   \n",
       "\n",
       "  is_privatecategory  class is_in_yandex is_return  weight  ...  \\\n",
       "0                  N    0.0            Y         N    87.0  ...   \n",
       "1                  N    0.0            N         N   107.0  ...   \n",
       "2                  N    0.0            Y         N    50.0  ...   \n",
       "3                  N    0.0            Y         N   416.0  ...   \n",
       "4                  N    0.0            Y         N   795.0  ...   \n",
       "\n",
       "   dist_qty_oper_login_1  total_qty_oper_login_1  total_qty_oper_login_0  \\\n",
       "0                   42.0                720176.0                 58950.0   \n",
       "1                  914.0              48856658.0              83318932.0   \n",
       "2                   62.0               3246292.0               3233068.0   \n",
       "3                   55.0               2060928.0                653280.0   \n",
       "4                   16.0                316919.0                 27911.0   \n",
       "\n",
       "   total_qty_over_index_and_type  total_qty_over_index  is_wrong_sndr_name  \\\n",
       "0                       779126.0             8290896.0                   0   \n",
       "1                    132175590.0           136819803.0                   0   \n",
       "2                      6479360.0            52708071.0                   0   \n",
       "3                      2714208.0            19562334.0                   0   \n",
       "4                       344830.0             4719186.0                   0   \n",
       "\n",
       "  is_wrong_rcpn_name  is_wrong_phone_number  is_wrong_address  label  \n",
       "0                  0                      0                 0      0  \n",
       "1                  0                      0                 0      0  \n",
       "2                  1                      0                 0      0  \n",
       "3                  0                      0                 0      0  \n",
       "4                  0                      0                 0      0  \n",
       "\n",
       "[5 rows x 29 columns]"
      ]
     },
     "execution_count": 5,
     "metadata": {},
     "output_type": "execute_result"
    }
   ],
   "source": [
    "df.head()"
   ]
  },
  {
   "cell_type": "code",
   "execution_count": 6,
   "id": "de50f3b7-19ae-4190-8c06-5dcc271080d9",
   "metadata": {},
   "outputs": [
    {
     "name": "stdout",
     "output_type": "stream",
     "text": [
      "<class 'pandas.core.frame.DataFrame'>\n",
      "RangeIndex: 6000000 entries, 0 to 5999999\n",
      "Data columns (total 29 columns):\n",
      " #   Column                         Dtype  \n",
      "---  ------                         -----  \n",
      " 0   id                             int64  \n",
      " 1   oper_type + oper_attr          object \n",
      " 2   index_oper                     object \n",
      " 3   type                           object \n",
      " 4   priority                       float64\n",
      " 5   is_privatecategory             object \n",
      " 6   class                          float64\n",
      " 7   is_in_yandex                   object \n",
      " 8   is_return                      object \n",
      " 9   weight                         float64\n",
      " 10  mailtype                       float64\n",
      " 11  mailctg                        float64\n",
      " 12  mailrank                       float64\n",
      " 13  directctg                      float64\n",
      " 14  transport_pay                  float64\n",
      " 15  postmark                       float64\n",
      " 16  name_mfi                       object \n",
      " 17  weight_mfi                     float64\n",
      " 18  price_mfi                      float64\n",
      " 19  dist_qty_oper_login_1          float64\n",
      " 20  total_qty_oper_login_1         float64\n",
      " 21  total_qty_oper_login_0         float64\n",
      " 22  total_qty_over_index_and_type  float64\n",
      " 23  total_qty_over_index           float64\n",
      " 24  is_wrong_sndr_name             int64  \n",
      " 25  is_wrong_rcpn_name             int64  \n",
      " 26  is_wrong_phone_number          int64  \n",
      " 27  is_wrong_address               int64  \n",
      " 28  label                          int64  \n",
      "dtypes: float64(16), int64(6), object(7)\n",
      "memory usage: 1.3+ GB\n"
     ]
    }
   ],
   "source": [
    "df.info()"
   ]
  },
  {
   "cell_type": "markdown",
   "id": "3e8fa5d3-7588-4216-81ce-5f4ca127cb6f",
   "metadata": {},
   "source": [
    "Есть строковые признаки. Некоторые переведём в категориальный тип с помощью метода get_dummies. Некоторые удалим."
   ]
  },
  {
   "cell_type": "code",
   "execution_count": 7,
   "id": "06cef133-e3f2-45b2-b769-883f01e92d8d",
   "metadata": {},
   "outputs": [
    {
     "data": {
      "text/plain": [
       "N    5994524\n",
       "Y       2806\n",
       "0       2670\n",
       "Name: is_privatecategory, dtype: int64"
      ]
     },
     "execution_count": 7,
     "metadata": {},
     "output_type": "execute_result"
    }
   ],
   "source": [
    "df.is_privatecategory.value_counts()"
   ]
  },
  {
   "cell_type": "code",
   "execution_count": 8,
   "id": "19c386e8-2be6-401d-a9f3-20d401fe74b0",
   "metadata": {},
   "outputs": [
    {
     "data": {
      "text/plain": [
       "(0.9995321251290158, 0.0004678748709842547)"
      ]
     },
     "execution_count": 8,
     "metadata": {},
     "output_type": "execute_result"
    }
   ],
   "source": [
    "# пропорции Y и N \n",
    "5994524 / (5994524 + 2806), 2806 / (5994524 + 2806)"
   ]
  },
  {
   "cell_type": "markdown",
   "id": "e790970c-e6e2-4baf-ad36-40101ee828db",
   "metadata": {},
   "source": [
    "в столбце 'is_privatecategory' вместо 0 ставим N и Y с вероятностями (0.999532; 0.000468) "
   ]
  },
  {
   "cell_type": "code",
   "execution_count": 9,
   "id": "45cdbadb-8155-41b0-82f0-f87da8f9c416",
   "metadata": {},
   "outputs": [],
   "source": [
    "a = ['Y', 'N']\n",
    "df['is_privatecategory'].where(df['is_privatecategory'] != '0', other=np.random.choice(a, 6000000, p=[0.000468, 0.999532]),  inplace=True)"
   ]
  },
  {
   "cell_type": "code",
   "execution_count": 10,
   "id": "a2df4be8-33ff-44d4-b027-6ee78b6a161e",
   "metadata": {},
   "outputs": [
    {
     "data": {
      "text/plain": [
       "N    5997194\n",
       "Y       2806\n",
       "Name: is_privatecategory, dtype: int64"
      ]
     },
     "execution_count": 10,
     "metadata": {},
     "output_type": "execute_result"
    }
   ],
   "source": [
    "df.is_privatecategory.value_counts()"
   ]
  },
  {
   "cell_type": "code",
   "execution_count": 11,
   "id": "1fc114b5-00c5-40c1-aeef-296597997511",
   "metadata": {},
   "outputs": [],
   "source": [
    "df[['is_privatecategory_0', 'is_privatecategory_1']]  = pd.get_dummies(df['is_privatecategory'])\n",
    "df.drop('is_privatecategory', axis=1, inplace=True)"
   ]
  },
  {
   "cell_type": "code",
   "execution_count": 12,
   "id": "3b65371f-afe7-465f-b8ae-da393165f572",
   "metadata": {},
   "outputs": [],
   "source": [
    "df[['mailtype', 'weight']] = df[['mailtype', 'weight']].astype(int)\n",
    "df[['priority', 'weight']] = df[['priority', 'weight']].astype(int)"
   ]
  },
  {
   "cell_type": "code",
   "execution_count": 13,
   "id": "07f7c27d-e725-40fe-9964-8452c05fa4c0",
   "metadata": {},
   "outputs": [
    {
     "data": {
      "text/plain": [
       "N    3585956\n",
       "Y    2411374\n",
       "0       2670\n",
       "Name: is_in_yandex, dtype: int64"
      ]
     },
     "execution_count": 13,
     "metadata": {},
     "output_type": "execute_result"
    }
   ],
   "source": [
    "df.is_in_yandex.value_counts()"
   ]
  },
  {
   "cell_type": "code",
   "execution_count": 14,
   "id": "38577f1b-21ba-4715-93dd-85057a5082f8",
   "metadata": {},
   "outputs": [
    {
     "data": {
      "text/plain": [
       "(0.597925410140846, 0.402074589859154)"
      ]
     },
     "execution_count": 14,
     "metadata": {},
     "output_type": "execute_result"
    }
   ],
   "source": [
    "# пропорции Y и N \n",
    "3585956 / (3585956+2411374), 2411374 / (3585956+2411374) #  высчитываем пропорции N и Y"
   ]
  },
  {
   "cell_type": "markdown",
   "id": "62b02416-a4f9-4720-b6e6-fd1068b82de5",
   "metadata": {},
   "source": [
    "в столбце 'is_in_yandex' вместо 0 ставим Y и N с вероятностями (0.5979254; 0.4020746)"
   ]
  },
  {
   "cell_type": "code",
   "execution_count": 15,
   "id": "c3f8ce6c-ec08-417f-89de-e24aca0c278e",
   "metadata": {},
   "outputs": [],
   "source": [
    "a = ['Y', 'N']\n",
    "df['is_in_yandex'].where(df['is_in_yandex'] != '0', other=np.random.choice(a, 6000000, p=[0.4020746, 0.5979254]), inplace=True)"
   ]
  },
  {
   "cell_type": "code",
   "execution_count": 16,
   "id": "b13bcf4f-0f57-49bc-b7c6-8a855c08d42c",
   "metadata": {},
   "outputs": [
    {
     "data": {
      "text/plain": [
       "N    3587539\n",
       "Y    2412461\n",
       "Name: is_in_yandex, dtype: int64"
      ]
     },
     "execution_count": 16,
     "metadata": {},
     "output_type": "execute_result"
    }
   ],
   "source": [
    "df.is_in_yandex.value_counts()"
   ]
  },
  {
   "cell_type": "code",
   "execution_count": 17,
   "id": "ec8758ae-d0ba-47ec-9a2d-ff6c8643a313",
   "metadata": {},
   "outputs": [],
   "source": [
    "df[['is_in_yandex_n', 'is_in_yandex_y']] = pd.get_dummies(df.is_in_yandex)\n",
    "df.drop('is_in_yandex', axis=1, inplace=True)"
   ]
  },
  {
   "cell_type": "code",
   "execution_count": 18,
   "id": "e40058ae-cf0c-4fa8-b85d-35f33b407533",
   "metadata": {},
   "outputs": [
    {
     "data": {
      "text/plain": [
       "2.0    5930484\n",
       "1.0      69361\n",
       "0.0        155\n",
       "Name: directctg, dtype: int64"
      ]
     },
     "execution_count": 18,
     "metadata": {},
     "output_type": "execute_result"
    }
   ],
   "source": [
    "df.directctg.value_counts()"
   ]
  },
  {
   "cell_type": "code",
   "execution_count": 19,
   "id": "9c2983df-9d47-4834-96f5-fa242cac40e6",
   "metadata": {},
   "outputs": [],
   "source": [
    "df[['directctg_0', 'directctg_1', 'directctg_2']]  = pd.get_dummies(df.directctg)\n",
    "df.drop('directctg', axis=1, inplace=True)"
   ]
  },
  {
   "cell_type": "code",
   "execution_count": 20,
   "id": "c437c305-3685-47d9-ad17-e0a671e68432",
   "metadata": {},
   "outputs": [
    {
     "data": {
      "text/plain": [
       "212936"
      ]
     },
     "execution_count": 20,
     "metadata": {},
     "output_type": "execute_result"
    }
   ],
   "source": [
    "df.name_mfi.nunique()"
   ]
  },
  {
   "cell_type": "code",
   "execution_count": 21,
   "id": "7f54c399-89e1-4bc8-a569-726626f12953",
   "metadata": {},
   "outputs": [
    {
     "data": {
      "text/plain": [
       "22159"
      ]
     },
     "execution_count": 21,
     "metadata": {},
     "output_type": "execute_result"
    }
   ],
   "source": [
    "df.index_oper.nunique()"
   ]
  },
  {
   "cell_type": "markdown",
   "id": "dae196c7-468a-4f9d-bf11-a0ecad9feb0c",
   "metadata": {},
   "source": [
    "Удаляем столбцы 'name_mfi', 'index_oper'"
   ]
  },
  {
   "cell_type": "code",
   "execution_count": 22,
   "id": "2e0faa62-b599-44de-ac43-76fe916a2bd3",
   "metadata": {},
   "outputs": [],
   "source": [
    "df.drop('name_mfi', axis=1, inplace=True)\n",
    "df.drop('index_oper', axis=1, inplace=True)"
   ]
  },
  {
   "cell_type": "code",
   "execution_count": 23,
   "id": "8ef9e79e-fd36-4189-aa37-cf02a5f3fbae",
   "metadata": {},
   "outputs": [
    {
     "data": {
      "text/plain": [
       "Цех               2093668\n",
       "ММПО              1614974\n",
       "Участок            926631\n",
       "ГОПС               463750\n",
       "ТИ                 305490\n",
       "П                  245814\n",
       "МСЦ                223241\n",
       "СОПС                72161\n",
       "СЦ                  12469\n",
       "ОП                   9527\n",
       "МСО                  7465\n",
       "ОПП                  7190\n",
       "АОПП                 6682\n",
       "МРП                  3850\n",
       "0                    3444\n",
       "АО                   1304\n",
       "ПЕРЕДВИЖНОЕ ОС       1006\n",
       "ППС                   682\n",
       "УМСЦ                  569\n",
       "УКД                    83\n",
       "Name: type, dtype: int64"
      ]
     },
     "execution_count": 23,
     "metadata": {},
     "output_type": "execute_result"
    }
   ],
   "source": [
    "df.type.value_counts()"
   ]
  },
  {
   "cell_type": "code",
   "execution_count": 24,
   "id": "dcaffa57-727f-4f8a-9941-3076e94d00e2",
   "metadata": {},
   "outputs": [],
   "source": [
    "df[['type_1', 'type_2', 'type_3', 'type_4', 'type_5', 'type_6', 'type_7', 'type_8', 'type_9', 'type_10', 'type_11', 'type_12', 'type_13', 'type_14', 'type_15', 'type_16', 'type_17', 'type_18', 'type_19', 'type_20']] = pd.get_dummies(df.type)"
   ]
  },
  {
   "cell_type": "code",
   "execution_count": 25,
   "id": "2522133b-59a7-4c52-a236-0856eeefa9c2",
   "metadata": {},
   "outputs": [],
   "source": [
    "df.drop('type', axis=1, inplace=True)"
   ]
  },
  {
   "cell_type": "code",
   "execution_count": 26,
   "id": "ca6d1273-37fe-4c94-ba4f-f7e189bd60f7",
   "metadata": {},
   "outputs": [
    {
     "data": {
      "text/plain": [
       "N    5993017\n",
       "Y       6983\n",
       "Name: is_return, dtype: int64"
      ]
     },
     "execution_count": 26,
     "metadata": {},
     "output_type": "execute_result"
    }
   ],
   "source": [
    "df.is_return.value_counts()"
   ]
  },
  {
   "cell_type": "code",
   "execution_count": 27,
   "id": "adb392ae-8bfa-4b3e-87a7-b7ee1311ee4b",
   "metadata": {},
   "outputs": [],
   "source": [
    "df[['is_return_0', 'is_return_1']]  = pd.get_dummies(df.is_return)\n",
    "df.drop('is_return', axis=1, inplace=True)"
   ]
  },
  {
   "cell_type": "code",
   "execution_count": 28,
   "id": "0eeca941-d45e-419f-a672-8b9e5c0c7744",
   "metadata": {},
   "outputs": [
    {
     "data": {
      "text/plain": [
       "0.0    5214845\n",
       "3.0     371753\n",
       "2.0     150393\n",
       "4.0     131468\n",
       "1.0     114117\n",
       "5.0      17424\n",
       "Name: class, dtype: int64"
      ]
     },
     "execution_count": 28,
     "metadata": {},
     "output_type": "execute_result"
    }
   ],
   "source": [
    "df['class'].value_counts()"
   ]
  },
  {
   "cell_type": "code",
   "execution_count": 29,
   "id": "7f36d82e-6c5f-4ce5-b63a-1d5a2121b73a",
   "metadata": {},
   "outputs": [],
   "source": [
    "df[['class_0', 'class_1', 'class_2', 'class_3', 'class_4', 'class_5']]  = pd.get_dummies(df['class'])\n",
    "df.drop('class', axis=1, inplace=True)"
   ]
  },
  {
   "cell_type": "code",
   "execution_count": 30,
   "id": "8f1a7f0c-3e9b-414e-9100-410f40d1ce65",
   "metadata": {},
   "outputs": [],
   "source": [
    "df[['pr_7503', 'pr_7504', 'pr_7506', 'pr_0']]  = pd.get_dummies(df['priority'])\n",
    "df.drop('priority', axis=1, inplace=True)"
   ]
  },
  {
   "cell_type": "code",
   "execution_count": 31,
   "id": "ffe061bd-b8b4-48ff-a1ea-d923fe242616",
   "metadata": {},
   "outputs": [
    {
     "data": {
      "text/plain": [
       "109"
      ]
     },
     "execution_count": 31,
     "metadata": {},
     "output_type": "execute_result"
    }
   ],
   "source": [
    "df['oper_type + oper_attr'].nunique()"
   ]
  },
  {
   "cell_type": "code",
   "execution_count": 32,
   "id": "7f144470-5a42-4fe0-8884-a02a935abfe2",
   "metadata": {},
   "outputs": [],
   "source": [
    "df.drop('oper_type + oper_attr', axis=1, inplace=True)"
   ]
  },
  {
   "cell_type": "code",
   "execution_count": 33,
   "id": "c07a6956-a719-400f-bc25-01a3cc00a218",
   "metadata": {},
   "outputs": [
    {
     "data": {
      "text/plain": [
       "Index(['id', 'weight', 'mailtype', 'mailctg', 'mailrank', 'transport_pay',\n",
       "       'postmark', 'weight_mfi', 'price_mfi', 'dist_qty_oper_login_1',\n",
       "       'total_qty_oper_login_1', 'total_qty_oper_login_0',\n",
       "       'total_qty_over_index_and_type', 'total_qty_over_index',\n",
       "       'is_wrong_sndr_name', 'is_wrong_rcpn_name', 'is_wrong_phone_number',\n",
       "       'is_wrong_address', 'label', 'is_privatecategory_0',\n",
       "       'is_privatecategory_1', 'is_in_yandex_n', 'is_in_yandex_y',\n",
       "       'directctg_0', 'directctg_1', 'directctg_2', 'type_1', 'type_2',\n",
       "       'type_3', 'type_4', 'type_5', 'type_6', 'type_7', 'type_8', 'type_9',\n",
       "       'type_10', 'type_11', 'type_12', 'type_13', 'type_14', 'type_15',\n",
       "       'type_16', 'type_17', 'type_18', 'type_19', 'type_20', 'is_return_0',\n",
       "       'is_return_1', 'class_0', 'class_1', 'class_2', 'class_3', 'class_4',\n",
       "       'class_5', 'pr_7503', 'pr_7504', 'pr_7506', 'pr_0'],\n",
       "      dtype='object')"
      ]
     },
     "execution_count": 33,
     "metadata": {},
     "output_type": "execute_result"
    }
   ],
   "source": [
    "df.columns"
   ]
  },
  {
   "cell_type": "code",
   "execution_count": 34,
   "id": "68b2d0c2-78db-4a55-bc42-d0656ee351e7",
   "metadata": {},
   "outputs": [],
   "source": [
    "l_columns = list(df.columns)"
   ]
  },
  {
   "cell_type": "markdown",
   "id": "cef8b2b7-9a5d-4c66-9080-4ef49e520211",
   "metadata": {},
   "source": [
    "Столбцов много, поэтому оставим столбцы имеющие хоть какую то корреляцию с целевой переменной"
   ]
  },
  {
   "cell_type": "code",
   "execution_count": 35,
   "id": "6b46676b-1c99-443e-9a6c-f848fecbe83f",
   "metadata": {},
   "outputs": [
    {
     "name": "stdout",
     "output_type": "stream",
     "text": [
      "-0.15113194531159935 mailctg\n",
      "-0.05501635187474265 transport_pay\n",
      "0.133341682032662 dist_qty_oper_login_1\n",
      "0.05587039013139361 total_qty_oper_login_1\n",
      "0.09973841165138884 total_qty_oper_login_0\n",
      "0.09522937429476985 total_qty_over_index_and_type\n",
      "0.06706274887218881 total_qty_over_index\n",
      "0.13493986781593045 is_wrong_phone_number\n",
      "0.9999999999999998 label\n",
      "0.13369071721406078 type_4\n",
      "0.14300243667788803 type_5\n",
      "0.06502012755783296 type_14\n",
      "-0.07068342263999323 type_19\n",
      "-0.12117097177689684 type_20\n",
      "-0.10637601880629699 class_0\n",
      "0.0976843032327197 class_3\n",
      "0.06673082235787955 class_4\n",
      "0.07225561108246846 pr_7504\n",
      "-0.09339252517130853 pr_0\n"
     ]
    }
   ],
   "source": [
    "column_corr = []\n",
    "for feat in l_columns:\n",
    "     if abs(df['label'].corr(df[feat])) > 0.05:\n",
    "            print(df['label'].corr(df[feat]), feat)\n",
    "            column_corr.append(feat)"
   ]
  },
  {
   "cell_type": "code",
   "execution_count": 36,
   "id": "452b3965-ad6b-4b91-8984-8d5c219987b3",
   "metadata": {},
   "outputs": [
    {
     "data": {
      "text/plain": [
       "['mailctg',\n",
       " 'transport_pay',\n",
       " 'dist_qty_oper_login_1',\n",
       " 'total_qty_oper_login_1',\n",
       " 'total_qty_oper_login_0',\n",
       " 'total_qty_over_index_and_type',\n",
       " 'total_qty_over_index',\n",
       " 'is_wrong_phone_number',\n",
       " 'label',\n",
       " 'type_4',\n",
       " 'type_5',\n",
       " 'type_14',\n",
       " 'type_19',\n",
       " 'type_20',\n",
       " 'class_0',\n",
       " 'class_3',\n",
       " 'class_4',\n",
       " 'pr_7504',\n",
       " 'pr_0']"
      ]
     },
     "execution_count": 36,
     "metadata": {},
     "output_type": "execute_result"
    }
   ],
   "source": [
    "column_corr"
   ]
  },
  {
   "cell_type": "markdown",
   "id": "359808c1-ec44-4f2f-87a2-a8e2c6b79610",
   "metadata": {},
   "source": [
    "добавляем 'id'"
   ]
  },
  {
   "cell_type": "code",
   "execution_count": 37,
   "id": "eab6c744-52ac-4b17-8f57-baf6d88656b2",
   "metadata": {},
   "outputs": [],
   "source": [
    "column_corr = ['id', 'label',\n",
    " 'mailctg',\n",
    " 'transport_pay',\n",
    " 'dist_qty_oper_login_1',\n",
    " 'total_qty_oper_login_1',\n",
    " 'total_qty_oper_login_0',\n",
    " 'total_qty_over_index_and_type',\n",
    " 'total_qty_over_index',\n",
    " 'is_wrong_phone_number',\n",
    " 'type_4',\n",
    " 'type_5',\n",
    " 'type_14',\n",
    " 'type_19',\n",
    " 'type_20',\n",
    " 'class_0',\n",
    " 'class_3',\n",
    " 'class_4',\n",
    " 'pr_7504',\n",
    " 'pr_0']"
   ]
  },
  {
   "cell_type": "code",
   "execution_count": 38,
   "id": "452bf602-7fd8-4e46-bdd5-129f51087652",
   "metadata": {},
   "outputs": [],
   "source": [
    "df = df[column_corr]"
   ]
  },
  {
   "cell_type": "markdown",
   "id": "a5f5d26d-d1c0-4924-ae05-e153f1d275ea",
   "metadata": {},
   "source": [
    "## Сохранение предобработанных данных"
   ]
  },
  {
   "cell_type": "markdown",
   "id": "04349e8a-fb92-4d3b-9307-1f18407ca59c",
   "metadata": {},
   "source": [
    "Сохранение предобработанных данных позволить вернуться к более оптимальному варианту предобработки"
   ]
  },
  {
   "cell_type": "code",
   "execution_count": 39,
   "id": "ae673289-db01-4ca3-a84e-1a49f410db27",
   "metadata": {},
   "outputs": [],
   "source": [
    "# df.to_csv('dataset_train_preprocessing19.csv', sep=',', encoding='utf-8') "
   ]
  },
  {
   "cell_type": "markdown",
   "id": "7bed1688-cafc-461d-87c6-2f612a272177",
   "metadata": {},
   "source": [
    "# Построение дерева решений"
   ]
  },
  {
   "cell_type": "code",
   "execution_count": 40,
   "id": "527899b7-18c9-4871-9ca1-96581ca95040",
   "metadata": {},
   "outputs": [],
   "source": [
    "target = df[['id', 'label']]\n",
    "feature = df.drop('label', axis=1)"
   ]
  },
  {
   "cell_type": "code",
   "execution_count": 93,
   "id": "5f2aaf72-b51a-4d54-805b-4c3d28667f94",
   "metadata": {},
   "outputs": [
    {
     "data": {
      "text/plain": [
       "Index(['id', 'mailctg', 'transport_pay', 'dist_qty_oper_login_1',\n",
       "       'total_qty_oper_login_1', 'total_qty_oper_login_0',\n",
       "       'total_qty_over_index_and_type', 'total_qty_over_index',\n",
       "       'is_wrong_phone_number', 'type_4', 'type_5', 'type_14', 'type_19',\n",
       "       'type_20', 'class_0', 'class_3', 'class_4', 'pr_7504', 'pr_0'],\n",
       "      dtype='object')"
      ]
     },
     "execution_count": 93,
     "metadata": {},
     "output_type": "execute_result"
    }
   ],
   "source": [
    "feature.columns"
   ]
  },
  {
   "cell_type": "code",
   "execution_count": 41,
   "id": "f5b1f9fb-26a2-4167-ae41-fc1f0be7db1c",
   "metadata": {},
   "outputs": [],
   "source": [
    "feature_train, feature_test, target_train, target_test = train_test_split(feature, target, test_size=0.25, random_state=RANDOM_STATE, stratify=target['label'])"
   ]
  },
  {
   "cell_type": "code",
   "execution_count": 42,
   "id": "887d0ca0-7c4e-4b20-92b8-0d4bfe39f5eb",
   "metadata": {},
   "outputs": [
    {
     "data": {
      "text/plain": [
       "0    5829020\n",
       "1     170980\n",
       "Name: label, dtype: int64"
      ]
     },
     "execution_count": 42,
     "metadata": {},
     "output_type": "execute_result"
    }
   ],
   "source": [
    "target['label'].value_counts()"
   ]
  },
  {
   "cell_type": "markdown",
   "id": "a1170064-41d5-4549-9b83-3428c27e435d",
   "metadata": {},
   "source": [
    "## Определяем веса для атрибута class_weight"
   ]
  },
  {
   "cell_type": "code",
   "execution_count": 43,
   "id": "7d5d8072-778f-48f8-9fda-70b7a1d9c0a7",
   "metadata": {},
   "outputs": [
    {
     "data": {
      "text/plain": [
       "0    0.028497\n",
       "1    0.971503\n",
       "Name: label, dtype: float64"
      ]
     },
     "execution_count": 43,
     "metadata": {},
     "output_type": "execute_result"
    }
   ],
   "source": [
    "1 - target['label'].value_counts() / target.shape[0]"
   ]
  },
  {
   "cell_type": "markdown",
   "id": "bff4371e-34d7-4750-b3b8-aef193331480",
   "metadata": {},
   "source": [
    "В виду того, что компьютерные мощности не позволяли запустить GridSearchCV с широким набором параметров обучение модели проходило пошагово:\n",
    "- поиск оптимального max_depth\n",
    "- поиск оптимального min_samples_split\n",
    "- поиск оптимального min_samples_leaf"
   ]
  },
  {
   "cell_type": "code",
   "execution_count": 44,
   "id": "d7baee38-ab86-4675-bccf-74c8a4df43f0",
   "metadata": {},
   "outputs": [
    {
     "name": "stdout",
     "output_type": "stream",
     "text": [
      "max_depth = 3  : \t0.7760421641115935\n",
      "max_depth = 6  : \t0.8680403045230352\n",
      "max_depth = 9  : \t0.8786141872698187\n",
      "max_depth = 12  : \t0.8786900236130781\n",
      "max_depth = 15  : \t0.8778952227996637\n",
      "max_depth = 18  : \t0.8750673766500916\n"
     ]
    }
   ],
   "source": [
    "best_model = None\n",
    "best_result = 0\n",
    "score_TreeClass = []\n",
    "max_d = 20\n",
    "for param in range(3,max_d, 3):\n",
    "    model = DecisionTreeClassifier(random_state=RANDOM_STATE, max_depth=param, class_weight={0: 0.0285, 1: 0.9715})\n",
    "    model.fit(feature_train.iloc[:, 1:], target_train['label'])\n",
    "    predictions_test = model.predict(feature_test.iloc[:, 1:])\n",
    "    print(\"max_depth =\", param, \" : \", end='\\t')\n",
    "    result = 0.1 * recall_score(target_test['label'], predictions_test) + 0.9 * roc_auc_score(target_test['label'], predictions_test)\n",
    "    score_TreeClass.append(result)\n",
    "    print(result)\n",
    "    if result > best_result:\n",
    "        best_model = model # сохраняем наилучшую модель\n",
    "        best_result = result #  сохраняем наилучшее значение метрики на тестовых данных"
   ]
  },
  {
   "cell_type": "markdown",
   "id": "814bd0d4-7f17-43a6-a7c1-5a0c4c1fb572",
   "metadata": {},
   "source": [
    "Лучший промежуточный результат дало решающее дерево с максимальной глубиной 12.\n",
    "\n",
    "Фискируем данный параметр max_depth=12\n",
    "\n",
    "Теперь подбираем параметр min_samples_split"
   ]
  },
  {
   "cell_type": "code",
   "execution_count": 45,
   "id": "644ac176-cf90-4f4b-b857-873d9bd62332",
   "metadata": {},
   "outputs": [
    {
     "name": "stdout",
     "output_type": "stream",
     "text": [
      "sampl_leaf = 15  : \t0.8788853964529206\n",
      "sampl_leaf = 20  : \t0.8788920874596305\n",
      "sampl_leaf = 23  : \t0.8788990872661041\n",
      "sampl_leaf = 25  : \t0.8788963080682287\n",
      "sampl_leaf = 30  : \t0.8788913672720057\n",
      "sampl_leaf = 35  : \t0.8788814856795597\n"
     ]
    }
   ],
   "source": [
    "best_model = None\n",
    "best_result = 0\n",
    "score_TreeClass = []\n",
    "min_sampl_leaf = [15, 20, 23, 25, 30, 35]\n",
    "for param in min_sampl_leaf:\n",
    "    model = DecisionTreeClassifier(random_state=RANDOM_STATE, max_depth=12, min_samples_split=param, class_weight={0: 0.0285, 1: 0.9715})\n",
    "    model.fit(feature_train.iloc[:, 1:], target_train['label'])\n",
    "    predictions_test = model.predict(feature_test.iloc[:, 1:])\n",
    "    print(\"sampl_leaf =\", param, \" : \", end='\\t')\n",
    "    result = 0.1 * recall_score(target_test['label'], predictions_test) + 0.9 * roc_auc_score(target_test['label'], predictions_test)\n",
    "    score_TreeClass.append(result)\n",
    "    print(result)\n",
    "    if result > best_result:\n",
    "        best_model = model # сохраняем наилучшую модель\n",
    "        best_result = result #  сохраняем наилучшее значение метрики на тестовых данных"
   ]
  },
  {
   "cell_type": "markdown",
   "id": "d924162d-d89c-4170-b4c5-2af65c325dfa",
   "metadata": {},
   "source": [
    "Лучший промежуточный результат дало решающее дерево с параметрами: max_depth=12, min_samples_split=23\n",
    "\n",
    "Фискируем: max_depth=12, min_samples_split=23\n",
    "\n",
    "Теперь подбираем параметр min_samples_leaf"
   ]
  },
  {
   "cell_type": "code",
   "execution_count": 46,
   "id": "63d9e523-88d9-4c4f-a320-7944bae3df9c",
   "metadata": {},
   "outputs": [
    {
     "name": "stdout",
     "output_type": "stream",
     "text": [
      "sampl_leaf = 10  : \t0.8789509687328654\n",
      "sampl_leaf = 15  : \t0.8789399555649335\n",
      "sampl_leaf = 20  : \t0.878954573812882\n",
      "sampl_leaf = 25  : \t0.8789297662081968\n",
      "sampl_leaf = 30  : \t0.8789178256055\n"
     ]
    }
   ],
   "source": [
    "best_model = None\n",
    "best_result = 0\n",
    "score_TreeClass = []\n",
    "min_sampl_leaf = [10, 15, 20, 25, 30]\n",
    "for param in min_sampl_leaf:\n",
    "    model = DecisionTreeClassifier(random_state=RANDOM_STATE, max_depth=12, min_samples_split=23, min_samples_leaf=param, class_weight={0: 0.0285, 1: 0.9715})\n",
    "    model.fit(feature_train.iloc[:, 1:], target_train['label'])\n",
    "    predictions_test = model.predict(feature_test.iloc[:, 1:])\n",
    "    print(\"sampl_leaf =\", param, \" : \", end='\\t')\n",
    "    result = 0.1 * recall_score(target_test['label'], predictions_test) + 0.9 * roc_auc_score(target_test['label'], predictions_test)\n",
    "    score_TreeClass.append(result)\n",
    "    print(result)\n",
    "    if result > best_result:\n",
    "        best_model = model # сохраняем наилучшую модель\n",
    "        best_result = result #  сохраняем наилучшее значение метрики на тестовых данных"
   ]
  },
  {
   "cell_type": "markdown",
   "id": "ba71ee11-1831-48bf-946b-7560a5ad49d1",
   "metadata": {},
   "source": [
    "Лучший результат дало решающее дерево с параметрами: max_depth=12, min_samples_split=23, min_samples_leaf=20"
   ]
  },
  {
   "cell_type": "markdown",
   "id": "04a35fcb-d36b-48dc-90bb-c1670f70a5b6",
   "metadata": {},
   "source": [
    "### Лучшая модель"
   ]
  },
  {
   "cell_type": "code",
   "execution_count": 56,
   "id": "a1480194-f7c8-4f6a-9e66-39174a5460af",
   "metadata": {},
   "outputs": [
    {
     "data": {
      "text/plain": [
       "DecisionTreeClassifier(class_weight={0: 0.0285, 1: 0.9715}, max_depth=12,\n",
       "                       min_samples_leaf=20, min_samples_split=23,\n",
       "                       random_state=123)"
      ]
     },
     "execution_count": 56,
     "metadata": {},
     "output_type": "execute_result"
    }
   ],
   "source": [
    "best_model # лучшая модель"
   ]
  },
  {
   "cell_type": "markdown",
   "id": "1d197bf9-fdaa-4954-87f5-587254adac85",
   "metadata": {},
   "source": [
    "Сохраняем лучшую модель в файл, для использования предсказания на тестовых данных (при отладке)"
   ]
  },
  {
   "cell_type": "code",
   "execution_count": 47,
   "id": "e7d2deb5-940b-46e7-b87a-3a47364f5af6",
   "metadata": {},
   "outputs": [],
   "source": [
    "# filename = 'result_DTC_d12_20_23_Preproc19.sav'\n",
    "# joblib.dump(best_model, filename)"
   ]
  },
  {
   "cell_type": "markdown",
   "id": "ea14b348-7caa-4d98-b446-bbba64482e36",
   "metadata": {},
   "source": [
    "Лучшая модель сохранена и может быть использована для сохранения лучшего результата"
   ]
  },
  {
   "cell_type": "markdown",
   "id": "e26ac63e-2d7e-4f59-b2af-89c3502eb8c6",
   "metadata": {},
   "source": [
    "# Предподготовка данных тестового датасета"
   ]
  },
  {
   "cell_type": "code",
   "execution_count": 62,
   "id": "00e98a8f-73a7-42a2-ba39-4f778e67d913",
   "metadata": {},
   "outputs": [],
   "source": [
    "df_dataset_test = pd.read_csv('test_dataset_test.csv', low_memory=False) # Чтение тестового датасета"
   ]
  },
  {
   "cell_type": "code",
   "execution_count": 63,
   "id": "0a29d3dd-fbe9-4245-8e52-f1ecf2edc380",
   "metadata": {},
   "outputs": [
    {
     "data": {
      "text/html": [
       "<div>\n",
       "<style scoped>\n",
       "    .dataframe tbody tr th:only-of-type {\n",
       "        vertical-align: middle;\n",
       "    }\n",
       "\n",
       "    .dataframe tbody tr th {\n",
       "        vertical-align: top;\n",
       "    }\n",
       "\n",
       "    .dataframe thead th {\n",
       "        text-align: right;\n",
       "    }\n",
       "</style>\n",
       "<table border=\"1\" class=\"dataframe\">\n",
       "  <thead>\n",
       "    <tr style=\"text-align: right;\">\n",
       "      <th></th>\n",
       "      <th>id</th>\n",
       "      <th>oper_type + oper_attr</th>\n",
       "      <th>index_oper</th>\n",
       "      <th>type</th>\n",
       "      <th>priority</th>\n",
       "      <th>is_privatecategory</th>\n",
       "      <th>class</th>\n",
       "      <th>is_in_yandex</th>\n",
       "      <th>is_return</th>\n",
       "      <th>weight</th>\n",
       "      <th>...</th>\n",
       "      <th>price_mfi</th>\n",
       "      <th>dist_qty_oper_login_1</th>\n",
       "      <th>total_qty_oper_login_1</th>\n",
       "      <th>total_qty_oper_login_0</th>\n",
       "      <th>total_qty_over_index_and_type</th>\n",
       "      <th>total_qty_over_index</th>\n",
       "      <th>is_wrong_sndr_name</th>\n",
       "      <th>is_wrong_rcpn_name</th>\n",
       "      <th>is_wrong_phone_number</th>\n",
       "      <th>is_wrong_address</th>\n",
       "    </tr>\n",
       "  </thead>\n",
       "  <tbody>\n",
       "    <tr>\n",
       "      <th>0</th>\n",
       "      <td>7815282</td>\n",
       "      <td>8_13</td>\n",
       "      <td>102976</td>\n",
       "      <td>ММПО</td>\n",
       "      <td>7503.0</td>\n",
       "      <td>N</td>\n",
       "      <td>0.0</td>\n",
       "      <td>N</td>\n",
       "      <td>N</td>\n",
       "      <td>85.0</td>\n",
       "      <td>...</td>\n",
       "      <td>489.0</td>\n",
       "      <td>972.0</td>\n",
       "      <td>68766046.0</td>\n",
       "      <td>91123247.0</td>\n",
       "      <td>159889293.0</td>\n",
       "      <td>164927295.0</td>\n",
       "      <td>0</td>\n",
       "      <td>0</td>\n",
       "      <td>0</td>\n",
       "      <td>0</td>\n",
       "    </tr>\n",
       "    <tr>\n",
       "      <th>1</th>\n",
       "      <td>8443555</td>\n",
       "      <td>8_2</td>\n",
       "      <td>238753</td>\n",
       "      <td>ГОПС</td>\n",
       "      <td>7503.0</td>\n",
       "      <td>N</td>\n",
       "      <td>4.0</td>\n",
       "      <td>Y</td>\n",
       "      <td>N</td>\n",
       "      <td>21.0</td>\n",
       "      <td>...</td>\n",
       "      <td>186.0</td>\n",
       "      <td>2.0</td>\n",
       "      <td>2895.0</td>\n",
       "      <td>1545.0</td>\n",
       "      <td>4440.0</td>\n",
       "      <td>20623.0</td>\n",
       "      <td>0</td>\n",
       "      <td>1</td>\n",
       "      <td>1</td>\n",
       "      <td>0</td>\n",
       "    </tr>\n",
       "    <tr>\n",
       "      <th>2</th>\n",
       "      <td>6352559</td>\n",
       "      <td>1020_-1</td>\n",
       "      <td>618254</td>\n",
       "      <td>ГОПС</td>\n",
       "      <td>7503.0</td>\n",
       "      <td>N</td>\n",
       "      <td>4.0</td>\n",
       "      <td>Y</td>\n",
       "      <td>N</td>\n",
       "      <td>388.0</td>\n",
       "      <td>...</td>\n",
       "      <td>500.0</td>\n",
       "      <td>3.0</td>\n",
       "      <td>2751.0</td>\n",
       "      <td>993.0</td>\n",
       "      <td>3744.0</td>\n",
       "      <td>37817.0</td>\n",
       "      <td>0</td>\n",
       "      <td>0</td>\n",
       "      <td>0</td>\n",
       "      <td>0</td>\n",
       "    </tr>\n",
       "    <tr>\n",
       "      <th>3</th>\n",
       "      <td>4921420</td>\n",
       "      <td>1016_-1</td>\n",
       "      <td>102968</td>\n",
       "      <td>ТИ</td>\n",
       "      <td>7503.0</td>\n",
       "      <td>N</td>\n",
       "      <td>0.0</td>\n",
       "      <td>N</td>\n",
       "      <td>N</td>\n",
       "      <td>1203.0</td>\n",
       "      <td>...</td>\n",
       "      <td>0.0</td>\n",
       "      <td>69.0</td>\n",
       "      <td>9379609.0</td>\n",
       "      <td>2267333.0</td>\n",
       "      <td>11646942.0</td>\n",
       "      <td>11759329.0</td>\n",
       "      <td>0</td>\n",
       "      <td>1</td>\n",
       "      <td>0</td>\n",
       "      <td>0</td>\n",
       "    </tr>\n",
       "    <tr>\n",
       "      <th>4</th>\n",
       "      <td>1420440</td>\n",
       "      <td>1018_-1</td>\n",
       "      <td>102971</td>\n",
       "      <td>Цех</td>\n",
       "      <td>7506.0</td>\n",
       "      <td>N</td>\n",
       "      <td>0.0</td>\n",
       "      <td>N</td>\n",
       "      <td>N</td>\n",
       "      <td>956.0</td>\n",
       "      <td>...</td>\n",
       "      <td>1267.0</td>\n",
       "      <td>181.0</td>\n",
       "      <td>76138189.0</td>\n",
       "      <td>8747.0</td>\n",
       "      <td>76146936.0</td>\n",
       "      <td>84110459.0</td>\n",
       "      <td>0</td>\n",
       "      <td>1</td>\n",
       "      <td>0</td>\n",
       "      <td>0</td>\n",
       "    </tr>\n",
       "  </tbody>\n",
       "</table>\n",
       "<p>5 rows × 28 columns</p>\n",
       "</div>"
      ],
      "text/plain": [
       "        id oper_type + oper_attr index_oper  type  priority  \\\n",
       "0  7815282                  8_13     102976  ММПО    7503.0   \n",
       "1  8443555                   8_2     238753  ГОПС    7503.0   \n",
       "2  6352559               1020_-1     618254  ГОПС    7503.0   \n",
       "3  4921420               1016_-1     102968    ТИ    7503.0   \n",
       "4  1420440               1018_-1     102971   Цех    7506.0   \n",
       "\n",
       "  is_privatecategory  class is_in_yandex is_return  weight  ...  price_mfi  \\\n",
       "0                  N    0.0            N         N    85.0  ...      489.0   \n",
       "1                  N    4.0            Y         N    21.0  ...      186.0   \n",
       "2                  N    4.0            Y         N   388.0  ...      500.0   \n",
       "3                  N    0.0            N         N  1203.0  ...        0.0   \n",
       "4                  N    0.0            N         N   956.0  ...     1267.0   \n",
       "\n",
       "   dist_qty_oper_login_1  total_qty_oper_login_1  total_qty_oper_login_0  \\\n",
       "0                  972.0              68766046.0              91123247.0   \n",
       "1                    2.0                  2895.0                  1545.0   \n",
       "2                    3.0                  2751.0                   993.0   \n",
       "3                   69.0               9379609.0               2267333.0   \n",
       "4                  181.0              76138189.0                  8747.0   \n",
       "\n",
       "   total_qty_over_index_and_type  total_qty_over_index is_wrong_sndr_name  \\\n",
       "0                    159889293.0           164927295.0                  0   \n",
       "1                         4440.0               20623.0                  0   \n",
       "2                         3744.0               37817.0                  0   \n",
       "3                     11646942.0            11759329.0                  0   \n",
       "4                     76146936.0            84110459.0                  0   \n",
       "\n",
       "   is_wrong_rcpn_name  is_wrong_phone_number  is_wrong_address  \n",
       "0                   0                      0                 0  \n",
       "1                   1                      1                 0  \n",
       "2                   0                      0                 0  \n",
       "3                   1                      0                 0  \n",
       "4                   1                      0                 0  \n",
       "\n",
       "[5 rows x 28 columns]"
      ]
     },
     "execution_count": 63,
     "metadata": {},
     "output_type": "execute_result"
    }
   ],
   "source": [
    "df_dataset_test.head()"
   ]
  },
  {
   "cell_type": "code",
   "execution_count": 64,
   "id": "71deff2b-765f-4757-8de1-710be4167317",
   "metadata": {},
   "outputs": [
    {
     "name": "stdout",
     "output_type": "stream",
     "text": [
      "<class 'pandas.core.frame.DataFrame'>\n",
      "RangeIndex: 4000000 entries, 0 to 3999999\n",
      "Data columns (total 28 columns):\n",
      " #   Column                         Dtype  \n",
      "---  ------                         -----  \n",
      " 0   id                             int64  \n",
      " 1   oper_type + oper_attr          object \n",
      " 2   index_oper                     object \n",
      " 3   type                           object \n",
      " 4   priority                       float64\n",
      " 5   is_privatecategory             object \n",
      " 6   class                          float64\n",
      " 7   is_in_yandex                   object \n",
      " 8   is_return                      object \n",
      " 9   weight                         float64\n",
      " 10  mailtype                       float64\n",
      " 11  mailctg                        float64\n",
      " 12  mailrank                       float64\n",
      " 13  directctg                      float64\n",
      " 14  transport_pay                  float64\n",
      " 15  postmark                       float64\n",
      " 16  name_mfi                       object \n",
      " 17  weight_mfi                     float64\n",
      " 18  price_mfi                      float64\n",
      " 19  dist_qty_oper_login_1          float64\n",
      " 20  total_qty_oper_login_1         float64\n",
      " 21  total_qty_oper_login_0         float64\n",
      " 22  total_qty_over_index_and_type  float64\n",
      " 23  total_qty_over_index           float64\n",
      " 24  is_wrong_sndr_name             int64  \n",
      " 25  is_wrong_rcpn_name             int64  \n",
      " 26  is_wrong_phone_number          int64  \n",
      " 27  is_wrong_address               int64  \n",
      "dtypes: float64(16), int64(5), object(7)\n",
      "memory usage: 854.5+ MB\n"
     ]
    }
   ],
   "source": [
    "df_dataset_test.info()"
   ]
  },
  {
   "cell_type": "markdown",
   "id": "8efc3855-464d-4c32-a92a-ed84ba8bafd1",
   "metadata": {},
   "source": [
    "## Предобработка тестового датасета идет по тому же алгоритму, что и обработка тренировочного датасета"
   ]
  },
  {
   "cell_type": "code",
   "execution_count": 65,
   "id": "2328a620-683d-4793-9d37-a29c98f5bdc9",
   "metadata": {},
   "outputs": [
    {
     "data": {
      "text/plain": [
       "N    3996480\n",
       "Y       1820\n",
       "0       1700\n",
       "Name: is_privatecategory, dtype: int64"
      ]
     },
     "execution_count": 65,
     "metadata": {},
     "output_type": "execute_result"
    }
   ],
   "source": [
    "df_dataset_test.is_privatecategory.value_counts()"
   ]
  },
  {
   "cell_type": "code",
   "execution_count": 66,
   "id": "ef266d58-91d3-4c3b-bffe-cd25feb02905",
   "metadata": {},
   "outputs": [],
   "source": [
    "a = ['Y', 'N']\n",
    "df_dataset_test['is_privatecategory'].where(df_dataset_test['is_privatecategory'] != '0', other=np.random.choice(a, 4000000, p=[0.000455, 0.999545]), inplace=True)"
   ]
  },
  {
   "cell_type": "code",
   "execution_count": 67,
   "id": "c602ac97-fb76-4e6c-8c3c-db054c040445",
   "metadata": {},
   "outputs": [
    {
     "data": {
      "text/plain": [
       "N    3998180\n",
       "Y       1820\n",
       "Name: is_privatecategory, dtype: int64"
      ]
     },
     "execution_count": 67,
     "metadata": {},
     "output_type": "execute_result"
    }
   ],
   "source": [
    "df_dataset_test.is_privatecategory.value_counts()"
   ]
  },
  {
   "cell_type": "code",
   "execution_count": 68,
   "id": "98a11685-ff21-4ba0-9a30-b78a237aa167",
   "metadata": {},
   "outputs": [],
   "source": [
    "df_dataset_test[['is_privatecategory_0', 'is_privatecategory_1']]  = pd.get_dummies(df_dataset_test['is_privatecategory'])\n",
    "df_dataset_test.drop('is_privatecategory', axis=1, inplace=True)"
   ]
  },
  {
   "cell_type": "code",
   "execution_count": 69,
   "id": "5b5af5e8-fac2-4706-8150-268065d61b75",
   "metadata": {},
   "outputs": [],
   "source": [
    "df_dataset_test[['mailtype', 'weight']] = df_dataset_test[['mailtype', 'weight']].astype(int)\n",
    "df_dataset_test[['priority', 'weight']] = df_dataset_test[['priority', 'weight']].astype(int)"
   ]
  },
  {
   "cell_type": "code",
   "execution_count": 70,
   "id": "86a30526-e05d-4bd0-8105-b591371d3fce",
   "metadata": {},
   "outputs": [
    {
     "data": {
      "text/plain": [
       "N    2389898\n",
       "Y    1608402\n",
       "0       1700\n",
       "Name: is_in_yandex, dtype: int64"
      ]
     },
     "execution_count": 70,
     "metadata": {},
     "output_type": "execute_result"
    }
   ],
   "source": [
    "df_dataset_test.is_in_yandex.value_counts()"
   ]
  },
  {
   "cell_type": "code",
   "execution_count": 71,
   "id": "13224e5d-865c-41e5-a2a8-cd8e7ebcf203",
   "metadata": {},
   "outputs": [],
   "source": [
    "a = ['Y', 'N']\n",
    "df_dataset_test['is_in_yandex'].where(df_dataset_test['is_in_yandex'] != '0', other=np.random.choice(a, 4000000, p=[0.40227, 0.59773]), inplace=True)"
   ]
  },
  {
   "cell_type": "code",
   "execution_count": 72,
   "id": "8285b1e2-f661-462e-9c6b-adfaad89a7c3",
   "metadata": {},
   "outputs": [
    {
     "data": {
      "text/plain": [
       "N    2390899\n",
       "Y    1609101\n",
       "Name: is_in_yandex, dtype: int64"
      ]
     },
     "execution_count": 72,
     "metadata": {},
     "output_type": "execute_result"
    }
   ],
   "source": [
    "df_dataset_test.is_in_yandex.value_counts()"
   ]
  },
  {
   "cell_type": "code",
   "execution_count": 73,
   "id": "eb9fbfc1-2e0e-4788-b51b-4bc699a605ac",
   "metadata": {},
   "outputs": [],
   "source": [
    "df_dataset_test[['is_in_yandex_n', 'is_in_yandex_y']] = pd.get_dummies(df_dataset_test.is_in_yandex)\n",
    "df_dataset_test.drop('is_in_yandex', axis=1, inplace=True)"
   ]
  },
  {
   "cell_type": "code",
   "execution_count": 74,
   "id": "111c9efd-6e86-42d5-b2a8-1ea9a17ff191",
   "metadata": {},
   "outputs": [
    {
     "data": {
      "text/plain": [
       "2.0    3953723\n",
       "1.0      46171\n",
       "0.0        106\n",
       "Name: directctg, dtype: int64"
      ]
     },
     "execution_count": 74,
     "metadata": {},
     "output_type": "execute_result"
    }
   ],
   "source": [
    "df_dataset_test.directctg.value_counts()"
   ]
  },
  {
   "cell_type": "code",
   "execution_count": 75,
   "id": "c42d1e9f-7174-4260-acb1-fbe89ed65843",
   "metadata": {},
   "outputs": [],
   "source": [
    "df_dataset_test[['directctg_0', 'directctg_1', 'directctg_2']]  = pd.get_dummies(df_dataset_test.directctg)\n",
    "df_dataset_test.drop('directctg', axis=1, inplace=True)"
   ]
  },
  {
   "cell_type": "code",
   "execution_count": 76,
   "id": "ad2b09b9-faec-4e4d-96c9-91c1c6b1b053",
   "metadata": {},
   "outputs": [],
   "source": [
    "df_dataset_test.drop('name_mfi', axis=1, inplace=True)\n",
    "df_dataset_test.drop('index_oper', axis=1, inplace=True)"
   ]
  },
  {
   "cell_type": "code",
   "execution_count": 77,
   "id": "42db6ca2-666b-4e35-8fa8-dcc629f3052a",
   "metadata": {},
   "outputs": [
    {
     "data": {
      "text/plain": [
       "Цех               1395154\n",
       "ММПО              1075996\n",
       "Участок            619027\n",
       "ГОПС               308878\n",
       "ТИ                 203015\n",
       "П                  164467\n",
       "МСЦ                149374\n",
       "СОПС                48117\n",
       "СЦ                   8310\n",
       "ОП                   6441\n",
       "МСО                  5117\n",
       "АОПП                 4532\n",
       "ОПП                  4463\n",
       "МРП                  2520\n",
       "0                    2249\n",
       "АО                    807\n",
       "ПЕРЕДВИЖНОЕ ОС        605\n",
       "УМСЦ                  433\n",
       "ППС                   430\n",
       "УКД                    65\n",
       "Name: type, dtype: int64"
      ]
     },
     "execution_count": 77,
     "metadata": {},
     "output_type": "execute_result"
    }
   ],
   "source": [
    "df_dataset_test.type.value_counts()"
   ]
  },
  {
   "cell_type": "code",
   "execution_count": 78,
   "id": "318cfe6a-58eb-48e8-932e-816f96a2adae",
   "metadata": {},
   "outputs": [],
   "source": [
    "df_dataset_test[['type_1', 'type_2', 'type_3', 'type_4', 'type_5', 'type_6', 'type_7', 'type_8', 'type_9', 'type_10', 'type_11', 'type_12', 'type_13', 'type_14', 'type_15', 'type_16', 'type_17', 'type_18', 'type_19', 'type_20']] = pd.get_dummies(df_dataset_test.type)"
   ]
  },
  {
   "cell_type": "code",
   "execution_count": 79,
   "id": "99983cd7-e43f-455d-ba8c-c82b8e63f17b",
   "metadata": {},
   "outputs": [],
   "source": [
    "df_dataset_test.drop('type', axis=1, inplace=True)"
   ]
  },
  {
   "cell_type": "code",
   "execution_count": 80,
   "id": "87daa979-0f3f-4d4a-90e8-4f5aaa1f2e04",
   "metadata": {},
   "outputs": [
    {
     "data": {
      "text/plain": [
       "N    3995443\n",
       "Y       4557\n",
       "Name: is_return, dtype: int64"
      ]
     },
     "execution_count": 80,
     "metadata": {},
     "output_type": "execute_result"
    }
   ],
   "source": [
    "df_dataset_test.is_return.value_counts()"
   ]
  },
  {
   "cell_type": "code",
   "execution_count": 81,
   "id": "c9d41e74-5c90-4080-b3dd-fb0b18fffaae",
   "metadata": {},
   "outputs": [],
   "source": [
    "df_dataset_test[['is_return_0', 'is_return_1']]  = pd.get_dummies(df_dataset_test.is_return)\n",
    "df_dataset_test.drop('is_return', axis=1, inplace=True)"
   ]
  },
  {
   "cell_type": "code",
   "execution_count": 82,
   "id": "31e53270-1959-4983-9cd9-334830c5917b",
   "metadata": {},
   "outputs": [
    {
     "data": {
      "text/plain": [
       "0.0    3476329\n",
       "3.0     248562\n",
       "2.0     100242\n",
       "4.0      87307\n",
       "1.0      76204\n",
       "5.0      11356\n",
       "Name: class, dtype: int64"
      ]
     },
     "execution_count": 82,
     "metadata": {},
     "output_type": "execute_result"
    }
   ],
   "source": [
    "df_dataset_test['class'].value_counts()"
   ]
  },
  {
   "cell_type": "code",
   "execution_count": 83,
   "id": "db6e6f22-e79e-491c-a704-e7eede64f898",
   "metadata": {},
   "outputs": [],
   "source": [
    "df_dataset_test[['class_0', 'class_1', 'class_2', 'class_3', 'class_4', 'class_5']]  = pd.get_dummies(df_dataset_test['class'])\n",
    "df_dataset_test.drop('class', axis=1, inplace=True)"
   ]
  },
  {
   "cell_type": "code",
   "execution_count": 84,
   "id": "c159165d-1c09-491c-8ffc-0511c5f5ec66",
   "metadata": {},
   "outputs": [],
   "source": [
    "df_dataset_test[['pr_7503', 'pr_7504', 'pr_7506', 'pr_0']]  = pd.get_dummies(df_dataset_test['priority'])\n",
    "df_dataset_test.drop('priority', axis=1, inplace=True)"
   ]
  },
  {
   "cell_type": "code",
   "execution_count": 85,
   "id": "650fda98-3e1d-49ef-8dec-7be2b31759e8",
   "metadata": {},
   "outputs": [],
   "source": [
    "df_dataset_test.drop('oper_type + oper_attr', axis=1, inplace=True)"
   ]
  },
  {
   "cell_type": "markdown",
   "id": "2f63b447-da93-4096-81a3-16b23bec8cb7",
   "metadata": {},
   "source": [
    "<b> Список столбцов делаем такой же как в обработанном тренировочном датасете (только без столбца 'label')</b>"
   ]
  },
  {
   "cell_type": "code",
   "execution_count": 86,
   "id": "a4f2a6ed-830a-4e2e-9eb1-f1f05cd32c83",
   "metadata": {},
   "outputs": [
    {
     "data": {
      "text/plain": [
       "['id',\n",
       " 'label',\n",
       " 'mailctg',\n",
       " 'transport_pay',\n",
       " 'dist_qty_oper_login_1',\n",
       " 'total_qty_oper_login_1',\n",
       " 'total_qty_oper_login_0',\n",
       " 'total_qty_over_index_and_type',\n",
       " 'total_qty_over_index',\n",
       " 'is_wrong_phone_number',\n",
       " 'type_4',\n",
       " 'type_5',\n",
       " 'type_14',\n",
       " 'type_19',\n",
       " 'type_20',\n",
       " 'class_0',\n",
       " 'class_3',\n",
       " 'class_4',\n",
       " 'pr_7504',\n",
       " 'pr_0']"
      ]
     },
     "execution_count": 86,
     "metadata": {},
     "output_type": "execute_result"
    }
   ],
   "source": [
    "column_corr"
   ]
  },
  {
   "cell_type": "code",
   "execution_count": 87,
   "id": "516308cd-505d-4737-b35c-f450b5d96cfa",
   "metadata": {},
   "outputs": [],
   "source": [
    "column_corr_test = ['id',\n",
    " 'mailctg',\n",
    " 'transport_pay',\n",
    " 'dist_qty_oper_login_1',\n",
    " 'total_qty_oper_login_1',\n",
    " 'total_qty_oper_login_0',\n",
    " 'total_qty_over_index_and_type',\n",
    " 'total_qty_over_index',\n",
    " 'is_wrong_phone_number',\n",
    " 'type_4',\n",
    " 'type_5',\n",
    " 'type_14',\n",
    " 'type_19',\n",
    " 'type_20',\n",
    " 'class_0',\n",
    " 'class_3',\n",
    " 'class_4',\n",
    " 'pr_7504',\n",
    " 'pr_0']"
   ]
  },
  {
   "cell_type": "code",
   "execution_count": 88,
   "id": "f1dfb967-1656-4b63-a13d-c2616941df25",
   "metadata": {},
   "outputs": [],
   "source": [
    "df_dataset_test = df_dataset_test[column_corr_test]"
   ]
  },
  {
   "cell_type": "code",
   "execution_count": 94,
   "id": "2e18e9e1-de81-4fa2-bf95-f0913f5a57a3",
   "metadata": {},
   "outputs": [
    {
     "data": {
      "text/plain": [
       "Index(['id', 'mailctg', 'transport_pay', 'dist_qty_oper_login_1',\n",
       "       'total_qty_oper_login_1', 'total_qty_oper_login_0',\n",
       "       'total_qty_over_index_and_type', 'total_qty_over_index',\n",
       "       'is_wrong_phone_number', 'type_4', 'type_5', 'type_14', 'type_19',\n",
       "       'type_20', 'class_0', 'class_3', 'class_4', 'pr_7504', 'pr_0'],\n",
       "      dtype='object')"
      ]
     },
     "execution_count": 94,
     "metadata": {},
     "output_type": "execute_result"
    }
   ],
   "source": [
    "df_dataset_test.columns"
   ]
  },
  {
   "cell_type": "markdown",
   "id": "2b110b09-3651-467c-95f0-41c785c5ac0c",
   "metadata": {},
   "source": [
    "## Сохранение предобработанных данных¶"
   ]
  },
  {
   "cell_type": "markdown",
   "id": "c409ea90-8916-4383-a046-953e1cd6aec0",
   "metadata": {},
   "source": [
    "Сохранение предобработанных данных позволить вернуться к более оптимальному варианту предобработки"
   ]
  },
  {
   "cell_type": "code",
   "execution_count": 2,
   "id": "ea5b65c2-bcbe-4f4d-af5f-9a9753a961fa",
   "metadata": {},
   "outputs": [],
   "source": [
    "# df.to_csv('dataset_test_preprocessing19.csv', sep=',', encoding='utf-8')"
   ]
  },
  {
   "cell_type": "markdown",
   "id": "b4245b96-a20e-478a-a09c-61b6b5cd0ffb",
   "metadata": {},
   "source": [
    "# Предсказание по обученному дереву решений¶"
   ]
  },
  {
   "cell_type": "code",
   "execution_count": 3,
   "id": "959c0b21-6cd9-4846-9d71-770a339cb2b4",
   "metadata": {},
   "outputs": [],
   "source": [
    "# df = pd.read_csv('dataset_test_preprocessing19.csv', low_memory=False, index_col=0)\n",
    "# чтение обработанного датасета предыдущего лучшего варианта. Если потребуется"
   ]
  },
  {
   "cell_type": "markdown",
   "id": "bd954919-23d6-453c-a991-78c9dc710069",
   "metadata": {},
   "source": [
    "Создаем датасет для отправки решения."
   ]
  },
  {
   "cell_type": "code",
   "execution_count": 90,
   "id": "af4385d3-e1b6-4fca-966e-42ef2bfbe94e",
   "metadata": {},
   "outputs": [],
   "source": [
    "df_test = df_dataset_test[['id']]"
   ]
  },
  {
   "cell_type": "code",
   "execution_count": 91,
   "id": "0b76a21f-3913-4d7d-823f-352df3782663",
   "metadata": {},
   "outputs": [
    {
     "data": {
      "text/html": [
       "<div>\n",
       "<style scoped>\n",
       "    .dataframe tbody tr th:only-of-type {\n",
       "        vertical-align: middle;\n",
       "    }\n",
       "\n",
       "    .dataframe tbody tr th {\n",
       "        vertical-align: top;\n",
       "    }\n",
       "\n",
       "    .dataframe thead th {\n",
       "        text-align: right;\n",
       "    }\n",
       "</style>\n",
       "<table border=\"1\" class=\"dataframe\">\n",
       "  <thead>\n",
       "    <tr style=\"text-align: right;\">\n",
       "      <th></th>\n",
       "      <th>id</th>\n",
       "    </tr>\n",
       "  </thead>\n",
       "  <tbody>\n",
       "    <tr>\n",
       "      <th>0</th>\n",
       "      <td>7815282</td>\n",
       "    </tr>\n",
       "    <tr>\n",
       "      <th>1</th>\n",
       "      <td>8443555</td>\n",
       "    </tr>\n",
       "    <tr>\n",
       "      <th>2</th>\n",
       "      <td>6352559</td>\n",
       "    </tr>\n",
       "    <tr>\n",
       "      <th>3</th>\n",
       "      <td>4921420</td>\n",
       "    </tr>\n",
       "    <tr>\n",
       "      <th>4</th>\n",
       "      <td>1420440</td>\n",
       "    </tr>\n",
       "  </tbody>\n",
       "</table>\n",
       "</div>"
      ],
      "text/plain": [
       "        id\n",
       "0  7815282\n",
       "1  8443555\n",
       "2  6352559\n",
       "3  4921420\n",
       "4  1420440"
      ]
     },
     "execution_count": 91,
     "metadata": {},
     "output_type": "execute_result"
    }
   ],
   "source": [
    "df_test.head()"
   ]
  },
  {
   "cell_type": "markdown",
   "id": "29524465-8f12-4c62-b024-c1292f28513e",
   "metadata": {},
   "source": [
    "Загружаем обученную модель (при работе с нескольмими файлами)"
   ]
  },
  {
   "cell_type": "code",
   "execution_count": 4,
   "id": "3fb5d370-343c-454e-a240-5c972701818a",
   "metadata": {},
   "outputs": [],
   "source": [
    "# filename = 'result_DTC_d12_20_23_Preproc19.sav'\n",
    "\n",
    "# best_model = joblib.load(filename)"
   ]
  },
  {
   "cell_type": "markdown",
   "id": "a8526d5a-5938-47c8-bbbd-a4978bcc391c",
   "metadata": {},
   "source": [
    "### Предсказание"
   ]
  },
  {
   "cell_type": "markdown",
   "id": "a8e1c367-4a11-4773-83ae-e6f60e9d3009",
   "metadata": {},
   "source": [
    "дописываем столбец с предсказаниями"
   ]
  },
  {
   "cell_type": "code",
   "execution_count": 95,
   "id": "43ac2db4-3dc9-44a0-a53e-764cd2ad6afa",
   "metadata": {},
   "outputs": [
    {
     "name": "stderr",
     "output_type": "stream",
     "text": [
      "C:\\Users\\igor\\AppData\\Local\\Temp/ipykernel_9612/2296575081.py:1: SettingWithCopyWarning: \n",
      "A value is trying to be set on a copy of a slice from a DataFrame.\n",
      "Try using .loc[row_indexer,col_indexer] = value instead\n",
      "\n",
      "See the caveats in the documentation: https://pandas.pydata.org/pandas-docs/stable/user_guide/indexing.html#returning-a-view-versus-a-copy\n",
      "  df_test['label'] = best_model.predict(df_dataset_test.iloc[:, 1:])\n"
     ]
    }
   ],
   "source": [
    "df_test['label'] = best_model.predict(df_dataset_test.iloc[:, 1:])"
   ]
  },
  {
   "cell_type": "code",
   "execution_count": 96,
   "id": "35fba57c-e541-4b2a-be61-764bebdeb657",
   "metadata": {},
   "outputs": [
    {
     "data": {
      "text/html": [
       "<div>\n",
       "<style scoped>\n",
       "    .dataframe tbody tr th:only-of-type {\n",
       "        vertical-align: middle;\n",
       "    }\n",
       "\n",
       "    .dataframe tbody tr th {\n",
       "        vertical-align: top;\n",
       "    }\n",
       "\n",
       "    .dataframe thead th {\n",
       "        text-align: right;\n",
       "    }\n",
       "</style>\n",
       "<table border=\"1\" class=\"dataframe\">\n",
       "  <thead>\n",
       "    <tr style=\"text-align: right;\">\n",
       "      <th></th>\n",
       "      <th>id</th>\n",
       "      <th>label</th>\n",
       "    </tr>\n",
       "  </thead>\n",
       "  <tbody>\n",
       "    <tr>\n",
       "      <th>0</th>\n",
       "      <td>7815282</td>\n",
       "      <td>1</td>\n",
       "    </tr>\n",
       "    <tr>\n",
       "      <th>1</th>\n",
       "      <td>8443555</td>\n",
       "      <td>1</td>\n",
       "    </tr>\n",
       "    <tr>\n",
       "      <th>2</th>\n",
       "      <td>6352559</td>\n",
       "      <td>1</td>\n",
       "    </tr>\n",
       "    <tr>\n",
       "      <th>3</th>\n",
       "      <td>4921420</td>\n",
       "      <td>0</td>\n",
       "    </tr>\n",
       "    <tr>\n",
       "      <th>4</th>\n",
       "      <td>1420440</td>\n",
       "      <td>0</td>\n",
       "    </tr>\n",
       "    <tr>\n",
       "      <th>...</th>\n",
       "      <td>...</td>\n",
       "      <td>...</td>\n",
       "    </tr>\n",
       "    <tr>\n",
       "      <th>3999995</th>\n",
       "      <td>9030800</td>\n",
       "      <td>1</td>\n",
       "    </tr>\n",
       "    <tr>\n",
       "      <th>3999996</th>\n",
       "      <td>6275048</td>\n",
       "      <td>1</td>\n",
       "    </tr>\n",
       "    <tr>\n",
       "      <th>3999997</th>\n",
       "      <td>4701757</td>\n",
       "      <td>0</td>\n",
       "    </tr>\n",
       "    <tr>\n",
       "      <th>3999998</th>\n",
       "      <td>611153</td>\n",
       "      <td>0</td>\n",
       "    </tr>\n",
       "    <tr>\n",
       "      <th>3999999</th>\n",
       "      <td>7776936</td>\n",
       "      <td>0</td>\n",
       "    </tr>\n",
       "  </tbody>\n",
       "</table>\n",
       "<p>4000000 rows × 2 columns</p>\n",
       "</div>"
      ],
      "text/plain": [
       "              id  label\n",
       "0        7815282      1\n",
       "1        8443555      1\n",
       "2        6352559      1\n",
       "3        4921420      0\n",
       "4        1420440      0\n",
       "...          ...    ...\n",
       "3999995  9030800      1\n",
       "3999996  6275048      1\n",
       "3999997  4701757      0\n",
       "3999998   611153      0\n",
       "3999999  7776936      0\n",
       "\n",
       "[4000000 rows x 2 columns]"
      ]
     },
     "execution_count": 96,
     "metadata": {},
     "output_type": "execute_result"
    }
   ],
   "source": [
    "df_test"
   ]
  },
  {
   "cell_type": "markdown",
   "id": "313b9a24-7aa1-4331-832c-de95772f8223",
   "metadata": {},
   "source": [
    "### Создаем файл для отправки"
   ]
  },
  {
   "cell_type": "code",
   "execution_count": 97,
   "id": "87b2f085-4386-4f3d-b69a-1720afe2e0f3",
   "metadata": {},
   "outputs": [],
   "source": [
    "df_test.to_csv(\"pochta_predict_19112022.csv\", index=False, line_terminator='\\n')"
   ]
  },
  {
   "cell_type": "markdown",
   "id": "782fdb4a-329b-4d8c-a16e-f86869f42b04",
   "metadata": {},
   "source": [
    "Результат проверки данного файла системой: Score = 0.853381"
   ]
  }
 ],
 "metadata": {
  "kernelspec": {
   "display_name": "Python 3 (ipykernel)",
   "language": "python",
   "name": "python3"
  },
  "language_info": {
   "codemirror_mode": {
    "name": "ipython",
    "version": 3
   },
   "file_extension": ".py",
   "mimetype": "text/x-python",
   "name": "python",
   "nbconvert_exporter": "python",
   "pygments_lexer": "ipython3",
   "version": "3.9.7"
  }
 },
 "nbformat": 4,
 "nbformat_minor": 5
}
